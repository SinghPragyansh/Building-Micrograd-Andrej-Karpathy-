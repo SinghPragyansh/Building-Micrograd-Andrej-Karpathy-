{
 "cells": [
  {
   "cell_type": "code",
   "execution_count": 1,
   "id": "84011a6c",
   "metadata": {},
   "outputs": [],
   "source": [
    "# Micrograd is library\n",
    "# https://github.com/karpathy/micrograd"
   ]
  },
  {
   "cell_type": "code",
   "execution_count": 3,
   "id": "89106228",
   "metadata": {},
   "outputs": [],
   "source": [
    "# Let's create the micrograd"
   ]
  },
  {
   "cell_type": "code",
   "execution_count": 4,
   "id": "f62519c1",
   "metadata": {},
   "outputs": [],
   "source": [
    "import math\n",
    "import numpy as np\n",
    "import matplotlib.pyplot as plt\n",
    "%matplotlib inline"
   ]
  },
  {
   "cell_type": "code",
   "execution_count": 5,
   "id": "87af1cff",
   "metadata": {},
   "outputs": [],
   "source": [
    "class Value:\n",
    "    \n",
    "    def __init__(self, data):\n",
    "        self.data = data\n",
    "        \n",
    "    def __repr__(self):\n",
    "        return f\"Value(data = {self.data})\""
   ]
  },
  {
   "cell_type": "code",
   "execution_count": 6,
   "id": "61b7b409",
   "metadata": {},
   "outputs": [
    {
     "data": {
      "text/plain": [
       "Value(data = 2.0)"
      ]
     },
     "execution_count": 6,
     "metadata": {},
     "output_type": "execute_result"
    }
   ],
   "source": [
    "# creating a object\n",
    "a = Value(2.0)\n",
    "a"
   ]
  },
  {
   "cell_type": "code",
   "execution_count": 7,
   "id": "bddf237f",
   "metadata": {},
   "outputs": [
    {
     "data": {
      "text/plain": [
       "Value(data = -3.0)"
      ]
     },
     "execution_count": 7,
     "metadata": {},
     "output_type": "execute_result"
    }
   ],
   "source": [
    "b = Value(-3.0)\n",
    "b"
   ]
  },
  {
   "cell_type": "code",
   "execution_count": 8,
   "id": "7580b336",
   "metadata": {},
   "outputs": [
    {
     "ename": "TypeError",
     "evalue": "unsupported operand type(s) for +: 'Value' and 'Value'",
     "output_type": "error",
     "traceback": [
      "\u001b[0;31m---------------------------------------------------------------------------\u001b[0m",
      "\u001b[0;31mTypeError\u001b[0m                                 Traceback (most recent call last)",
      "\u001b[0;32m<ipython-input-8-90e1639c88dc>\u001b[0m in \u001b[0;36m<module>\u001b[0;34m\u001b[0m\n\u001b[1;32m      1\u001b[0m \u001b[0;31m# apparently the python does not know, how to add two Value objects\u001b[0m\u001b[0;34m\u001b[0m\u001b[0;34m\u001b[0m\u001b[0;34m\u001b[0m\u001b[0m\n\u001b[0;32m----> 2\u001b[0;31m \u001b[0ma\u001b[0m \u001b[0;34m+\u001b[0m \u001b[0mb\u001b[0m\u001b[0;34m\u001b[0m\u001b[0;34m\u001b[0m\u001b[0m\n\u001b[0m",
      "\u001b[0;31mTypeError\u001b[0m: unsupported operand type(s) for +: 'Value' and 'Value'"
     ]
    }
   ],
   "source": [
    "# apparently the python does not know, how to add two Value objects\n",
    "a + b"
   ]
  },
  {
   "cell_type": "markdown",
   "id": "51f5b795",
   "metadata": {},
   "source": [
    "#### Python __add__() and  __mul() are functions as one of the magic methods in Python that returns a new object(third) i.e. the addition and multiplication of the other two objects. It implements the addition operator “+” and \"*\" in Python"
   ]
  },
  {
   "cell_type": "code",
   "execution_count": 112,
   "id": "9b344107",
   "metadata": {},
   "outputs": [],
   "source": [
    "class Value:\n",
    "    \n",
    "    def __init__(self, data, _children=(), _op = '', label = ''):\n",
    "        self.data = data\n",
    "        self._prev = set(_children)\n",
    "        self._op = _op\n",
    "        self.label = label\n",
    "        self.grad = 0.0         # initial value\n",
    "        \n",
    "    def __repr__(self):\n",
    "        return f\"Value(data = {self.data})\"\n",
    "    \n",
    "    # Note:\n",
    "    #out = Class(argument, (who are childrem node, again children node), 'name of operation')\n",
    "    \n",
    "    def __add__(self, other):\n",
    "        out = Value(self.data + other.data, (self,other), '+')\n",
    "        return out\n",
    "    def __sub__(self, other):\n",
    "        out = Value(self.data - other.data, (self, other), '-')\n",
    "        return out\n",
    "    def __mul__(self, other):\n",
    "        out = Value(self.data * other.data, (self, other), '*')\n",
    "        return out\n",
    "    def __truediv__(self, other):\n",
    "        out = Value(self.data / other.data,  (self, other), '/')\n",
    "        return out\n",
    "    def tanh(self):\n",
    "        x = self.data\n",
    "        t = (np.exp(x) - np.exp(-x))/ (np.exp(x) + np.exp(-x))\n",
    "        out = Value(t, (self, ), 'tanh')\n",
    "        return out"
   ]
  },
  {
   "cell_type": "code",
   "execution_count": 106,
   "id": "c23c6412",
   "metadata": {},
   "outputs": [
    {
     "name": "stdout",
     "output_type": "stream",
     "text": [
      "Value(data = -1.0)\n",
      "Value(data = -6.0)\n",
      "Value(data = -0.6666666666666666)\n",
      "Value(data = -8.0)\n"
     ]
    }
   ],
   "source": [
    "a = Value(2.0, label = 'a')\n",
    "b = Value(-3.0, label = 'b')\n",
    "c = Value(10.0, label = 'c')\n",
    "e = a*b ; e.label = 'e'\n",
    "f = Value(-2.0, label = 'f')\n",
    "d = e + c ; d.label = 'd'\n",
    "L = d * f ; L.label = 'L' \n",
    "\n",
    "print(a+b)\n",
    "print(a*b)\n",
    "print(a/b)\n",
    "\n",
    "# for mutiple value objects, we will need to add the _children varibale.\n",
    "print(L)"
   ]
  },
  {
   "cell_type": "code",
   "execution_count": 11,
   "id": "8bcaa5b4",
   "metadata": {},
   "outputs": [
    {
     "data": {
      "text/plain": [
       "{Value(data = -6.0), Value(data = 10.0)}"
      ]
     },
     "execution_count": 11,
     "metadata": {},
     "output_type": "execute_result"
    }
   ],
   "source": [
    "# 'a*b' and 'c' values are the children for creation of \"d\"\n",
    "d._prev"
   ]
  },
  {
   "cell_type": "code",
   "execution_count": 12,
   "id": "85793501",
   "metadata": {},
   "outputs": [
    {
     "data": {
      "text/plain": [
       "'+'"
      ]
     },
     "execution_count": 12,
     "metadata": {},
     "output_type": "execute_result"
    }
   ],
   "source": [
    "# \"d\" was produced by addition of children variables\n",
    "d._op"
   ]
  },
  {
   "cell_type": "markdown",
   "id": "97df501e",
   "metadata": {},
   "source": [
    "### To visualize, whats going on"
   ]
  },
  {
   "cell_type": "code",
   "execution_count": 13,
   "id": "23d71d96",
   "metadata": {},
   "outputs": [],
   "source": [
    "# building the graph in \"graphviz API\""
   ]
  },
  {
   "cell_type": "code",
   "execution_count": 14,
   "id": "1dd71fbe",
   "metadata": {},
   "outputs": [],
   "source": [
    "from graphviz import Digraph\n",
    "\n",
    "def trace(root):\n",
    "    # builds a set of all nodes and edges in a graph\n",
    "    nodes, edges = set(), set()\n",
    "    def build(v):\n",
    "        if v not in nodes:\n",
    "            nodes.add(v)\n",
    "            for child in v._prev:\n",
    "                edges.add((child, v))\n",
    "                build(child)\n",
    "    build(root)\n",
    "    return nodes, edges\n",
    "\n",
    "def draw_dot(root):\n",
    "    dot = Digraph(format = 'svg', graph_attr = {'rankdir': 'LR'})   # LR = Left to right\n",
    "    \n",
    "    nodes, edges = trace(root)\n",
    "    for n in nodes:\n",
    "        uid = str(id(n))\n",
    "        # for any value in the graph, create a rectangular ('record') node for it\n",
    "        dot.node(name = uid, label = \"{%s | data %.4f | grad %.4f}\" %(n.label ,n.data, n.grad ), shape = 'record')\n",
    "        if n._op:\n",
    "            # if this value is a result of some operation, create an op node for it\n",
    "            dot.node(name = uid + n._op, label = n._op)\n",
    "            # and connect this node to it\n",
    "            dot.edge(uid + n._op, uid)\n",
    "            \n",
    "    for n1, n2 in edges:   \n",
    "        # connect n1 to the op node of n2\n",
    "        dot.edge(str(id(n1)), str(id(n2)) + n2._op)\n",
    "        \n",
    "    return dot"
   ]
  },
  {
   "cell_type": "code",
   "execution_count": 64,
   "id": "13a265f3",
   "metadata": {},
   "outputs": [
    {
     "data": {
      "image/svg+xml": [
       "<?xml version=\"1.0\" encoding=\"UTF-8\" standalone=\"no\"?>\n",
       "<!DOCTYPE svg PUBLIC \"-//W3C//DTD SVG 1.1//EN\"\n",
       " \"http://www.w3.org/Graphics/SVG/1.1/DTD/svg11.dtd\">\n",
       "<!-- Generated by graphviz version 2.43.0 (0)\n",
       " -->\n",
       "<!-- Title: %3 Pages: 1 -->\n",
       "<svg width=\"1343pt\" height=\"156pt\"\n",
       " viewBox=\"0.00 0.00 1343.00 156.00\" xmlns=\"http://www.w3.org/2000/svg\" xmlns:xlink=\"http://www.w3.org/1999/xlink\">\n",
       "<g id=\"graph0\" class=\"graph\" transform=\"scale(1 1) rotate(0) translate(4 152)\">\n",
       "<title>%3</title>\n",
       "<polygon fill=\"white\" stroke=\"transparent\" points=\"-4,4 -4,-152 1339,-152 1339,4 -4,4\"/>\n",
       "<!-- 140465430987392 -->\n",
       "<g id=\"node1\" class=\"node\">\n",
       "<title>140465430987392</title>\n",
       "<polygon fill=\"none\" stroke=\"black\" points=\"5,-111.5 5,-147.5 236,-147.5 236,-111.5 5,-111.5\"/>\n",
       "<text text-anchor=\"middle\" x=\"17.5\" y=\"-125.8\" font-family=\"Times,serif\" font-size=\"14.00\">a</text>\n",
       "<polyline fill=\"none\" stroke=\"black\" points=\"30,-111.5 30,-147.5 \"/>\n",
       "<text text-anchor=\"middle\" x=\"81\" y=\"-125.8\" font-family=\"Times,serif\" font-size=\"14.00\">data 2.0000</text>\n",
       "<polyline fill=\"none\" stroke=\"black\" points=\"132,-111.5 132,-147.5 \"/>\n",
       "<text text-anchor=\"middle\" x=\"184\" y=\"-125.8\" font-family=\"Times,serif\" font-size=\"14.00\">grad 6.0000</text>\n",
       "</g>\n",
       "<!-- 140465431287744* -->\n",
       "<g id=\"node10\" class=\"node\">\n",
       "<title>140465431287744*</title>\n",
       "<ellipse fill=\"none\" stroke=\"black\" cx=\"304\" cy=\"-101.5\" rx=\"27\" ry=\"18\"/>\n",
       "<text text-anchor=\"middle\" x=\"304\" y=\"-97.8\" font-family=\"Times,serif\" font-size=\"14.00\">*</text>\n",
       "</g>\n",
       "<!-- 140465430987392&#45;&gt;140465431287744* -->\n",
       "<g id=\"edge9\" class=\"edge\">\n",
       "<title>140465430987392&#45;&gt;140465431287744*</title>\n",
       "<path fill=\"none\" stroke=\"black\" d=\"M236.19,-111.81C247.37,-110.08 258.02,-108.44 267.41,-106.99\"/>\n",
       "<polygon fill=\"black\" stroke=\"black\" points=\"268.08,-110.43 277.43,-105.44 267.01,-103.51 268.08,-110.43\"/>\n",
       "</g>\n",
       "<!-- 140465430986960 -->\n",
       "<g id=\"node2\" class=\"node\">\n",
       "<title>140465430986960</title>\n",
       "<polygon fill=\"none\" stroke=\"black\" points=\"0,-56.5 0,-92.5 241,-92.5 241,-56.5 0,-56.5\"/>\n",
       "<text text-anchor=\"middle\" x=\"13\" y=\"-70.8\" font-family=\"Times,serif\" font-size=\"14.00\">b</text>\n",
       "<polyline fill=\"none\" stroke=\"black\" points=\"26,-56.5 26,-92.5 \"/>\n",
       "<text text-anchor=\"middle\" x=\"79.5\" y=\"-70.8\" font-family=\"Times,serif\" font-size=\"14.00\">data &#45;3.0000</text>\n",
       "<polyline fill=\"none\" stroke=\"black\" points=\"133,-56.5 133,-92.5 \"/>\n",
       "<text text-anchor=\"middle\" x=\"187\" y=\"-70.8\" font-family=\"Times,serif\" font-size=\"14.00\">grad &#45;4.0000</text>\n",
       "</g>\n",
       "<!-- 140465430986960&#45;&gt;140465431287744* -->\n",
       "<g id=\"edge6\" class=\"edge\">\n",
       "<title>140465430986960&#45;&gt;140465431287744*</title>\n",
       "<path fill=\"none\" stroke=\"black\" d=\"M241.05,-92.28C250.46,-93.68 259.41,-95.02 267.44,-96.21\"/>\n",
       "<polygon fill=\"black\" stroke=\"black\" points=\"267.01,-99.68 277.41,-97.69 268.04,-92.76 267.01,-99.68\"/>\n",
       "</g>\n",
       "<!-- 140465431286544 -->\n",
       "<g id=\"node3\" class=\"node\">\n",
       "<title>140465431286544</title>\n",
       "<polygon fill=\"none\" stroke=\"black\" points=\"1098,-27.5 1098,-63.5 1335,-63.5 1335,-27.5 1098,-27.5\"/>\n",
       "<text text-anchor=\"middle\" x=\"1111\" y=\"-41.8\" font-family=\"Times,serif\" font-size=\"14.00\">L</text>\n",
       "<polyline fill=\"none\" stroke=\"black\" points=\"1124,-27.5 1124,-63.5 \"/>\n",
       "<text text-anchor=\"middle\" x=\"1177.5\" y=\"-41.8\" font-family=\"Times,serif\" font-size=\"14.00\">data &#45;8.0000</text>\n",
       "<polyline fill=\"none\" stroke=\"black\" points=\"1231,-27.5 1231,-63.5 \"/>\n",
       "<text text-anchor=\"middle\" x=\"1283\" y=\"-41.8\" font-family=\"Times,serif\" font-size=\"14.00\">grad 1.0000</text>\n",
       "</g>\n",
       "<!-- 140465431286544* -->\n",
       "<g id=\"node4\" class=\"node\">\n",
       "<title>140465431286544*</title>\n",
       "<ellipse fill=\"none\" stroke=\"black\" cx=\"1035\" cy=\"-45.5\" rx=\"27\" ry=\"18\"/>\n",
       "<text text-anchor=\"middle\" x=\"1035\" y=\"-41.8\" font-family=\"Times,serif\" font-size=\"14.00\">*</text>\n",
       "</g>\n",
       "<!-- 140465431286544*&#45;&gt;140465431286544 -->\n",
       "<g id=\"edge1\" class=\"edge\">\n",
       "<title>140465431286544*&#45;&gt;140465431286544</title>\n",
       "<path fill=\"none\" stroke=\"black\" d=\"M1062.1,-45.5C1069.61,-45.5 1078.33,-45.5 1087.75,-45.5\"/>\n",
       "<polygon fill=\"black\" stroke=\"black\" points=\"1087.78,-49 1097.78,-45.5 1087.78,-42 1087.78,-49\"/>\n",
       "</g>\n",
       "<!-- 140465431287072 -->\n",
       "<g id=\"node5\" class=\"node\">\n",
       "<title>140465431287072</title>\n",
       "<polygon fill=\"none\" stroke=\"black\" points=\"736,-55.5 736,-91.5 972,-91.5 972,-55.5 736,-55.5\"/>\n",
       "<text text-anchor=\"middle\" x=\"749\" y=\"-69.8\" font-family=\"Times,serif\" font-size=\"14.00\">d</text>\n",
       "<polyline fill=\"none\" stroke=\"black\" points=\"762,-55.5 762,-91.5 \"/>\n",
       "<text text-anchor=\"middle\" x=\"813\" y=\"-69.8\" font-family=\"Times,serif\" font-size=\"14.00\">data 4.0000</text>\n",
       "<polyline fill=\"none\" stroke=\"black\" points=\"864,-55.5 864,-91.5 \"/>\n",
       "<text text-anchor=\"middle\" x=\"918\" y=\"-69.8\" font-family=\"Times,serif\" font-size=\"14.00\">grad &#45;2.0000</text>\n",
       "</g>\n",
       "<!-- 140465431287072&#45;&gt;140465431286544* -->\n",
       "<g id=\"edge4\" class=\"edge\">\n",
       "<title>140465431287072&#45;&gt;140465431286544*</title>\n",
       "<path fill=\"none\" stroke=\"black\" d=\"M970.13,-55.49C980.27,-53.91 989.92,-52.4 998.51,-51.05\"/>\n",
       "<polygon fill=\"black\" stroke=\"black\" points=\"999.09,-54.5 1008.43,-49.5 998.01,-47.59 999.09,-54.5\"/>\n",
       "</g>\n",
       "<!-- 140465431287072+ -->\n",
       "<g id=\"node6\" class=\"node\">\n",
       "<title>140465431287072+</title>\n",
       "<ellipse fill=\"none\" stroke=\"black\" cx=\"673\" cy=\"-73.5\" rx=\"27\" ry=\"18\"/>\n",
       "<text text-anchor=\"middle\" x=\"673\" y=\"-69.8\" font-family=\"Times,serif\" font-size=\"14.00\">+</text>\n",
       "</g>\n",
       "<!-- 140465431287072+&#45;&gt;140465431287072 -->\n",
       "<g id=\"edge2\" class=\"edge\">\n",
       "<title>140465431287072+&#45;&gt;140465431287072</title>\n",
       "<path fill=\"none\" stroke=\"black\" d=\"M700.03,-73.5C707.58,-73.5 716.38,-73.5 725.87,-73.5\"/>\n",
       "<polygon fill=\"black\" stroke=\"black\" points=\"725.99,-77 735.99,-73.5 725.99,-70 725.99,-77\"/>\n",
       "</g>\n",
       "<!-- 140465431289136 -->\n",
       "<g id=\"node7\" class=\"node\">\n",
       "<title>140465431289136</title>\n",
       "<polygon fill=\"none\" stroke=\"black\" points=\"367,-28.5 367,-64.5 610,-64.5 610,-28.5 367,-28.5\"/>\n",
       "<text text-anchor=\"middle\" x=\"379\" y=\"-42.8\" font-family=\"Times,serif\" font-size=\"14.00\">c</text>\n",
       "<polyline fill=\"none\" stroke=\"black\" points=\"391,-28.5 391,-64.5 \"/>\n",
       "<text text-anchor=\"middle\" x=\"446.5\" y=\"-42.8\" font-family=\"Times,serif\" font-size=\"14.00\">data 10.0000</text>\n",
       "<polyline fill=\"none\" stroke=\"black\" points=\"502,-28.5 502,-64.5 \"/>\n",
       "<text text-anchor=\"middle\" x=\"556\" y=\"-42.8\" font-family=\"Times,serif\" font-size=\"14.00\">grad &#45;2.0000</text>\n",
       "</g>\n",
       "<!-- 140465431289136&#45;&gt;140465431287072+ -->\n",
       "<g id=\"edge5\" class=\"edge\">\n",
       "<title>140465431289136&#45;&gt;140465431287072+</title>\n",
       "<path fill=\"none\" stroke=\"black\" d=\"M610.21,-64.36C619.62,-65.75 628.55,-67.07 636.56,-68.26\"/>\n",
       "<polygon fill=\"black\" stroke=\"black\" points=\"636.1,-71.73 646.5,-69.73 637.12,-64.8 636.1,-71.73\"/>\n",
       "</g>\n",
       "<!-- 140465431287168 -->\n",
       "<g id=\"node8\" class=\"node\">\n",
       "<title>140465431287168</title>\n",
       "<polygon fill=\"none\" stroke=\"black\" points=\"737.5,-0.5 737.5,-36.5 970.5,-36.5 970.5,-0.5 737.5,-0.5\"/>\n",
       "<text text-anchor=\"middle\" x=\"748.5\" y=\"-14.8\" font-family=\"Times,serif\" font-size=\"14.00\">f</text>\n",
       "<polyline fill=\"none\" stroke=\"black\" points=\"759.5,-0.5 759.5,-36.5 \"/>\n",
       "<text text-anchor=\"middle\" x=\"813\" y=\"-14.8\" font-family=\"Times,serif\" font-size=\"14.00\">data &#45;2.0000</text>\n",
       "<polyline fill=\"none\" stroke=\"black\" points=\"866.5,-0.5 866.5,-36.5 \"/>\n",
       "<text text-anchor=\"middle\" x=\"918.5\" y=\"-14.8\" font-family=\"Times,serif\" font-size=\"14.00\">grad 4.0000</text>\n",
       "</g>\n",
       "<!-- 140465431287168&#45;&gt;140465431286544* -->\n",
       "<g id=\"edge8\" class=\"edge\">\n",
       "<title>140465431287168&#45;&gt;140465431286544*</title>\n",
       "<path fill=\"none\" stroke=\"black\" d=\"M970.64,-35.94C980.5,-37.43 989.9,-38.85 998.29,-40.11\"/>\n",
       "<polygon fill=\"black\" stroke=\"black\" points=\"997.94,-43.6 1008.35,-41.63 998.98,-36.68 997.94,-43.6\"/>\n",
       "</g>\n",
       "<!-- 140465431287744 -->\n",
       "<g id=\"node9\" class=\"node\">\n",
       "<title>140465431287744</title>\n",
       "<polygon fill=\"none\" stroke=\"black\" points=\"368.5,-83.5 368.5,-119.5 608.5,-119.5 608.5,-83.5 368.5,-83.5\"/>\n",
       "<text text-anchor=\"middle\" x=\"381\" y=\"-97.8\" font-family=\"Times,serif\" font-size=\"14.00\">e</text>\n",
       "<polyline fill=\"none\" stroke=\"black\" points=\"393.5,-83.5 393.5,-119.5 \"/>\n",
       "<text text-anchor=\"middle\" x=\"447\" y=\"-97.8\" font-family=\"Times,serif\" font-size=\"14.00\">data &#45;6.0000</text>\n",
       "<polyline fill=\"none\" stroke=\"black\" points=\"500.5,-83.5 500.5,-119.5 \"/>\n",
       "<text text-anchor=\"middle\" x=\"554.5\" y=\"-97.8\" font-family=\"Times,serif\" font-size=\"14.00\">grad &#45;2.0000</text>\n",
       "</g>\n",
       "<!-- 140465431287744&#45;&gt;140465431287072+ -->\n",
       "<g id=\"edge7\" class=\"edge\">\n",
       "<title>140465431287744&#45;&gt;140465431287072+</title>\n",
       "<path fill=\"none\" stroke=\"black\" d=\"M606.89,-83.49C617.53,-81.86 627.65,-80.3 636.61,-78.93\"/>\n",
       "<polygon fill=\"black\" stroke=\"black\" points=\"637.2,-82.38 646.55,-77.4 636.14,-75.46 637.2,-82.38\"/>\n",
       "</g>\n",
       "<!-- 140465431287744*&#45;&gt;140465431287744 -->\n",
       "<g id=\"edge3\" class=\"edge\">\n",
       "<title>140465431287744*&#45;&gt;140465431287744</title>\n",
       "<path fill=\"none\" stroke=\"black\" d=\"M331.15,-101.5C338.98,-101.5 348.16,-101.5 358.06,-101.5\"/>\n",
       "<polygon fill=\"black\" stroke=\"black\" points=\"358.19,-105 368.19,-101.5 358.19,-98 358.19,-105\"/>\n",
       "</g>\n",
       "</g>\n",
       "</svg>\n"
      ],
      "text/plain": [
       "<graphviz.graphs.Digraph at 0x7fc078de74c0>"
      ]
     },
     "execution_count": 64,
     "metadata": {},
     "output_type": "execute_result"
    }
   ],
   "source": [
    "draw_dot(L)"
   ]
  },
  {
   "cell_type": "code",
   "execution_count": 16,
   "id": "6e7746a4",
   "metadata": {},
   "outputs": [],
   "source": [
    "# L = d * f\n",
    "\n",
    "# dL/dd = f, also dL/df = d \n",
    "# lets set then gradients manually\n",
    "\n",
    "f.grad = 4.0   # value of d\n",
    "d.grad = -2.0   # value of f"
   ]
  },
  {
   "cell_type": "code",
   "execution_count": null,
   "id": "60c58ac9",
   "metadata": {},
   "outputs": [],
   "source": [
    "# L = [e + c]*f\n",
    "# L = [(a*b)+c]*f\n",
    "# L = a*b*f + c*f\n",
    "# therefore, dL/dc = f; dL/de = f;\n",
    "# dL/da = b*f"
   ]
  },
  {
   "cell_type": "code",
   "execution_count": 17,
   "id": "02ee752a",
   "metadata": {},
   "outputs": [],
   "source": [
    "L.grad = 1"
   ]
  },
  {
   "cell_type": "code",
   "execution_count": 62,
   "id": "3b835ca7",
   "metadata": {},
   "outputs": [],
   "source": [
    "def  lol():\n",
    "    \n",
    "    h = 0.0001\n",
    "    \n",
    "    # copying here for these to remain local in the function\n",
    "    a = Value(2.0, label = 'a')\n",
    "    b = Value(-3.0, label = 'b')\n",
    "    c = Value(10.0, label = 'c')\n",
    "    e = a*b ; e.label = 'e'\n",
    "    f = Value(-2.0, label = 'f')\n",
    "    d = e + c ; d.label = 'd'\n",
    "    L = d * f ; L.label = 'L' \n",
    "    L1 = L.data\n",
    "    \n",
    "    # bumping the a variable by h, then trying to approaximate the derivative\n",
    "    a = Value(2.0 , label = 'a')\n",
    "    #a.data += h\n",
    "    b = Value(-3.0, label = 'b')\n",
    "    #b.data += h \n",
    "    c = Value(10.0 , label = 'c')\n",
    "    #c.data += h\n",
    "    e = (a*b)  ; e.label = 'e'\n",
    "    #e.data += h\n",
    "    f = Value(-2.0, label = 'f')\n",
    "    f.data += h\n",
    "    d = e + c ; d.label = 'd'\n",
    "    # d.data += h\n",
    "    L = d * f ; L.label = 'L' \n",
    "    L2 = L.data\n",
    "    \n",
    "    # derivative\n",
    "    return (L2 - L1)/h"
   ]
  },
  {
   "cell_type": "code",
   "execution_count": 67,
   "id": "666d907f",
   "metadata": {},
   "outputs": [],
   "source": [
    "#a.grad = lol()\n",
    "#b.grad = lol()\n",
    "#c.grad = lol()\n",
    "#d.grad = lol()\n",
    "#e.grad = lol()\n",
    "f.grad = lol()"
   ]
  },
  {
   "cell_type": "markdown",
   "id": "25f993fa",
   "metadata": {},
   "source": [
    "## So backpropogation, \n",
    "is basically used to calculate the derivative of every children node wrt the output node, once all the derivatives are recorded in the form of gradient, we can use these to find the next output value, for the bump in every node value in direction of gradient all together. "
   ]
  },
  {
   "cell_type": "markdown",
   "id": "5bb3e6d2",
   "metadata": {},
   "source": [
    "#### One step optimization, that will consider a step value bump in the direction of gradient\n",
    "Like gradient descent algo"
   ]
  },
  {
   "cell_type": "code",
   "execution_count": 66,
   "id": "3f0f9464",
   "metadata": {},
   "outputs": [
    {
     "name": "stdout",
     "output_type": "stream",
     "text": [
      "Value(data = -6.586367999996973)\n"
     ]
    }
   ],
   "source": [
    "h = 0.01\n",
    "a.data += h * a.grad\n",
    "b.data += h * b.grad\n",
    "c.data += h * c.grad\n",
    "d.data += h * d.grad\n",
    "e.data += h * e.grad\n",
    "f.data += h * f.grad\n",
    "\n",
    "# new L.data\n",
    "e = a*b\n",
    "d = e+c\n",
    "L = d*f\n",
    "print(L)"
   ]
  },
  {
   "cell_type": "code",
   "execution_count": 68,
   "id": "74b90a78",
   "metadata": {},
   "outputs": [],
   "source": [
    "## Lets take a example of node development with activation  function"
   ]
  },
  {
   "cell_type": "code",
   "execution_count": 71,
   "id": "3f759180",
   "metadata": {},
   "outputs": [
    {
     "data": {
      "image/png": "[encoded data removed]",
      "text/plain": [
       "<Figure size 432x288 with 1 Axes>"
      ]
     },
     "metadata": {
      "needs_background": "light"
     },
     "output_type": "display_data"
    }
   ],
   "source": [
    "# tanh as the activation function\n",
    "plt.plot(np.arange(-5.0, 5.0,0.2), np.tanh(np.arange(-5.0, 5.0, 0.2)))\n",
    "plt.grid()\n",
    "# this is kind of sigmoid function"
   ]
  },
  {
   "cell_type": "code",
   "execution_count": 125,
   "id": "3b97d00d",
   "metadata": {},
   "outputs": [],
   "source": [
    "# Input nodes\n",
    "x1 = Value(2.0, label = 'x1')\n",
    "x2 = Value(0.0, label = 'x2')\n",
    "# weights\n",
    "w1 = Value(-3.0, label ='w1')\n",
    "w2 = Value(1.0, label = 'w2')\n",
    "# bias\n",
    "b = Value(6.881847283479823, label = 'b')\n",
    "\n",
    "# forward propogation of input nodes\n",
    "x1w1 = x1*w1; x1w1.label = 'x1w1'\n",
    "x2w2 = x2*w2; x2w2.label = 'x2w2'\n",
    "x1w1x2w2 = x1w1+x2w2; x1w1x2w2.label = 'x1w1x2w2'\n",
    "n = x1w1x2w2 + b; n.label = 'n'\n",
    "\n",
    "#Since we have not tanh function in the class, we can not directly implement it,so go back and define it in class \n",
    "# done\n",
    "o = n.tanh(); o.label = 'o'"
   ]
  },
  {
   "cell_type": "code",
   "execution_count": 136,
   "id": "39ba9f19",
   "metadata": {},
   "outputs": [
    {
     "data": {
      "image/svg+xml": [
       "<?xml version=\"1.0\" encoding=\"UTF-8\" standalone=\"no\"?>\n",
       "<!DOCTYPE svg PUBLIC \"-//W3C//DTD SVG 1.1//EN\"\n",
       " \"http://www.w3.org/Graphics/SVG/1.1/DTD/svg11.dtd\">\n",
       "<!-- Generated by graphviz version 2.43.0 (0)\n",
       " -->\n",
       "<!-- Title: %3 Pages: 1 -->\n",
       "<svg width=\"1804pt\" height=\"210pt\"\n",
       " viewBox=\"0.00 0.00 1803.69 210.00\" xmlns=\"http://www.w3.org/2000/svg\" xmlns:xlink=\"http://www.w3.org/1999/xlink\">\n",
       "<g id=\"graph0\" class=\"graph\" transform=\"scale(1 1) rotate(0) translate(4 206)\">\n",
       "<title>%3</title>\n",
       "<polygon fill=\"white\" stroke=\"transparent\" points=\"-4,4 -4,-206 1799.69,-206 1799.69,4 -4,4\"/>\n",
       "<!-- 140464624685600 -->\n",
       "<g id=\"node1\" class=\"node\">\n",
       "<title>140464624685600</title>\n",
       "<polygon fill=\"none\" stroke=\"black\" points=\"767,-82.5 767,-118.5 1071,-118.5 1071,-82.5 767,-82.5\"/>\n",
       "<text text-anchor=\"middle\" x=\"813.5\" y=\"-96.8\" font-family=\"Times,serif\" font-size=\"14.00\">x1w1x2w2</text>\n",
       "<polyline fill=\"none\" stroke=\"black\" points=\"860,-82.5 860,-118.5 \"/>\n",
       "<text text-anchor=\"middle\" x=\"913.5\" y=\"-96.8\" font-family=\"Times,serif\" font-size=\"14.00\">data &#45;6.0000</text>\n",
       "<polyline fill=\"none\" stroke=\"black\" points=\"967,-82.5 967,-118.5 \"/>\n",
       "<text text-anchor=\"middle\" x=\"1019\" y=\"-96.8\" font-family=\"Times,serif\" font-size=\"14.00\">grad 0.4997</text>\n",
       "</g>\n",
       "<!-- 140464624686752+ -->\n",
       "<g id=\"node6\" class=\"node\">\n",
       "<title>140464624686752+</title>\n",
       "<ellipse fill=\"none\" stroke=\"black\" cx=\"1134\" cy=\"-127.5\" rx=\"27\" ry=\"18\"/>\n",
       "<text text-anchor=\"middle\" x=\"1134\" y=\"-123.8\" font-family=\"Times,serif\" font-size=\"14.00\">+</text>\n",
       "</g>\n",
       "<!-- 140464624685600&#45;&gt;140464624686752+ -->\n",
       "<g id=\"edge7\" class=\"edge\">\n",
       "<title>140464624685600&#45;&gt;140464624686752+</title>\n",
       "<path fill=\"none\" stroke=\"black\" d=\"M1062.07,-118.51C1074.76,-120.12 1086.69,-121.63 1097.01,-122.94\"/>\n",
       "<polygon fill=\"black\" stroke=\"black\" points=\"1096.79,-126.44 1107.15,-124.22 1097.67,-119.49 1096.79,-126.44\"/>\n",
       "</g>\n",
       "<!-- 140464624685600+ -->\n",
       "<g id=\"node2\" class=\"node\">\n",
       "<title>140464624685600+</title>\n",
       "<ellipse fill=\"none\" stroke=\"black\" cx=\"704\" cy=\"-100.5\" rx=\"27\" ry=\"18\"/>\n",
       "<text text-anchor=\"middle\" x=\"704\" y=\"-96.8\" font-family=\"Times,serif\" font-size=\"14.00\">+</text>\n",
       "</g>\n",
       "<!-- 140464624685600+&#45;&gt;140464624685600 -->\n",
       "<g id=\"edge1\" class=\"edge\">\n",
       "<title>140464624685600+&#45;&gt;140464624685600</title>\n",
       "<path fill=\"none\" stroke=\"black\" d=\"M731.12,-100.5C738.54,-100.5 747.2,-100.5 756.66,-100.5\"/>\n",
       "<polygon fill=\"black\" stroke=\"black\" points=\"756.79,-104 766.79,-100.5 756.79,-97 756.79,-104\"/>\n",
       "</g>\n",
       "<!-- 140464624612400 -->\n",
       "<g id=\"node3\" class=\"node\">\n",
       "<title>140464624612400</title>\n",
       "<polygon fill=\"none\" stroke=\"black\" points=\"4.5,-55.5 4.5,-91.5 244.5,-91.5 244.5,-55.5 4.5,-55.5\"/>\n",
       "<text text-anchor=\"middle\" x=\"21.5\" y=\"-69.8\" font-family=\"Times,serif\" font-size=\"14.00\">x2</text>\n",
       "<polyline fill=\"none\" stroke=\"black\" points=\"38.5,-55.5 38.5,-91.5 \"/>\n",
       "<text text-anchor=\"middle\" x=\"89.5\" y=\"-69.8\" font-family=\"Times,serif\" font-size=\"14.00\">data 0.0000</text>\n",
       "<polyline fill=\"none\" stroke=\"black\" points=\"140.5,-55.5 140.5,-91.5 \"/>\n",
       "<text text-anchor=\"middle\" x=\"192.5\" y=\"-69.8\" font-family=\"Times,serif\" font-size=\"14.00\">grad 0.4997</text>\n",
       "</g>\n",
       "<!-- 140464624688096* -->\n",
       "<g id=\"node15\" class=\"node\">\n",
       "<title>140464624688096*</title>\n",
       "<ellipse fill=\"none\" stroke=\"black\" cx=\"312\" cy=\"-73.5\" rx=\"27\" ry=\"18\"/>\n",
       "<text text-anchor=\"middle\" x=\"312\" y=\"-69.8\" font-family=\"Times,serif\" font-size=\"14.00\">*</text>\n",
       "</g>\n",
       "<!-- 140464624612400&#45;&gt;140464624688096* -->\n",
       "<g id=\"edge9\" class=\"edge\">\n",
       "<title>140464624612400&#45;&gt;140464624688096*</title>\n",
       "<path fill=\"none\" stroke=\"black\" d=\"M244.55,-73.5C255.31,-73.5 265.54,-73.5 274.62,-73.5\"/>\n",
       "<polygon fill=\"black\" stroke=\"black\" points=\"274.7,-77 284.7,-73.5 274.7,-70 274.7,-77\"/>\n",
       "</g>\n",
       "<!-- 140464624614512 -->\n",
       "<g id=\"node4\" class=\"node\">\n",
       "<title>140464624614512</title>\n",
       "<polygon fill=\"none\" stroke=\"black\" points=\"0,-165.5 0,-201.5 249,-201.5 249,-165.5 0,-165.5\"/>\n",
       "<text text-anchor=\"middle\" x=\"19\" y=\"-179.8\" font-family=\"Times,serif\" font-size=\"14.00\">w1</text>\n",
       "<polyline fill=\"none\" stroke=\"black\" points=\"38,-165.5 38,-201.5 \"/>\n",
       "<text text-anchor=\"middle\" x=\"91.5\" y=\"-179.8\" font-family=\"Times,serif\" font-size=\"14.00\">data &#45;3.0000</text>\n",
       "<polyline fill=\"none\" stroke=\"black\" points=\"145,-165.5 145,-201.5 \"/>\n",
       "<text text-anchor=\"middle\" x=\"197\" y=\"-179.8\" font-family=\"Times,serif\" font-size=\"14.00\">grad 0.9993</text>\n",
       "</g>\n",
       "<!-- 140464624686320* -->\n",
       "<g id=\"node11\" class=\"node\">\n",
       "<title>140464624686320*</title>\n",
       "<ellipse fill=\"none\" stroke=\"black\" cx=\"312\" cy=\"-128.5\" rx=\"27\" ry=\"18\"/>\n",
       "<text text-anchor=\"middle\" x=\"312\" y=\"-124.8\" font-family=\"Times,serif\" font-size=\"14.00\">*</text>\n",
       "</g>\n",
       "<!-- 140464624614512&#45;&gt;140464624686320* -->\n",
       "<g id=\"edge10\" class=\"edge\">\n",
       "<title>140464624614512&#45;&gt;140464624686320*</title>\n",
       "<path fill=\"none\" stroke=\"black\" d=\"M218.13,-165.46C228.63,-162.77 239.1,-159.78 249,-156.5 259.71,-152.96 271.05,-148.16 281.07,-143.54\"/>\n",
       "<polygon fill=\"black\" stroke=\"black\" points=\"282.67,-146.66 290.2,-139.21 279.67,-140.33 282.67,-146.66\"/>\n",
       "</g>\n",
       "<!-- 140464624686752 -->\n",
       "<g id=\"node5\" class=\"node\">\n",
       "<title>140464624686752</title>\n",
       "<polygon fill=\"none\" stroke=\"black\" points=\"1197,-109.5 1197,-145.5 1429,-145.5 1429,-109.5 1197,-109.5\"/>\n",
       "<text text-anchor=\"middle\" x=\"1210\" y=\"-123.8\" font-family=\"Times,serif\" font-size=\"14.00\">n</text>\n",
       "<polyline fill=\"none\" stroke=\"black\" points=\"1223,-109.5 1223,-145.5 \"/>\n",
       "<text text-anchor=\"middle\" x=\"1274\" y=\"-123.8\" font-family=\"Times,serif\" font-size=\"14.00\">data 0.8818</text>\n",
       "<polyline fill=\"none\" stroke=\"black\" points=\"1325,-109.5 1325,-145.5 \"/>\n",
       "<text text-anchor=\"middle\" x=\"1377\" y=\"-123.8\" font-family=\"Times,serif\" font-size=\"14.00\">grad 0.4997</text>\n",
       "</g>\n",
       "<!-- 140464624688336tanh -->\n",
       "<g id=\"node8\" class=\"node\">\n",
       "<title>140464624688336tanh</title>\n",
       "<ellipse fill=\"none\" stroke=\"black\" cx=\"1496.85\" cy=\"-127.5\" rx=\"31.7\" ry=\"18\"/>\n",
       "<text text-anchor=\"middle\" x=\"1496.85\" y=\"-123.8\" font-family=\"Times,serif\" font-size=\"14.00\">tanh</text>\n",
       "</g>\n",
       "<!-- 140464624686752&#45;&gt;140464624688336tanh -->\n",
       "<g id=\"edge11\" class=\"edge\">\n",
       "<title>140464624686752&#45;&gt;140464624688336tanh</title>\n",
       "<path fill=\"none\" stroke=\"black\" d=\"M1429.17,-127.5C1438.08,-127.5 1446.66,-127.5 1454.53,-127.5\"/>\n",
       "<polygon fill=\"black\" stroke=\"black\" points=\"1454.78,-131 1464.78,-127.5 1454.78,-124 1454.78,-131\"/>\n",
       "</g>\n",
       "<!-- 140464624686752+&#45;&gt;140464624686752 -->\n",
       "<g id=\"edge2\" class=\"edge\">\n",
       "<title>140464624686752+&#45;&gt;140464624686752</title>\n",
       "<path fill=\"none\" stroke=\"black\" d=\"M1161.12,-127.5C1168.53,-127.5 1177.14,-127.5 1186.4,-127.5\"/>\n",
       "<polygon fill=\"black\" stroke=\"black\" points=\"1186.69,-131 1196.69,-127.5 1186.69,-124 1186.69,-131\"/>\n",
       "</g>\n",
       "<!-- 140464624688336 -->\n",
       "<g id=\"node7\" class=\"node\">\n",
       "<title>140464624688336</title>\n",
       "<polygon fill=\"none\" stroke=\"black\" points=\"1564.69,-109.5 1564.69,-145.5 1795.69,-145.5 1795.69,-109.5 1564.69,-109.5\"/>\n",
       "<text text-anchor=\"middle\" x=\"1577.19\" y=\"-123.8\" font-family=\"Times,serif\" font-size=\"14.00\">o</text>\n",
       "<polyline fill=\"none\" stroke=\"black\" points=\"1589.69,-109.5 1589.69,-145.5 \"/>\n",
       "<text text-anchor=\"middle\" x=\"1640.69\" y=\"-123.8\" font-family=\"Times,serif\" font-size=\"14.00\">data 0.7073</text>\n",
       "<polyline fill=\"none\" stroke=\"black\" points=\"1691.69,-109.5 1691.69,-145.5 \"/>\n",
       "<text text-anchor=\"middle\" x=\"1743.69\" y=\"-123.8\" font-family=\"Times,serif\" font-size=\"14.00\">grad 1.0000</text>\n",
       "</g>\n",
       "<!-- 140464624688336tanh&#45;&gt;140464624688336 -->\n",
       "<g id=\"edge3\" class=\"edge\">\n",
       "<title>140464624688336tanh&#45;&gt;140464624688336</title>\n",
       "<path fill=\"none\" stroke=\"black\" d=\"M1529.02,-127.5C1536.61,-127.5 1545.19,-127.5 1554.31,-127.5\"/>\n",
       "<polygon fill=\"black\" stroke=\"black\" points=\"1554.4,-131 1564.4,-127.5 1554.4,-124 1554.4,-131\"/>\n",
       "</g>\n",
       "<!-- 140464624613072 -->\n",
       "<g id=\"node9\" class=\"node\">\n",
       "<title>140464624613072</title>\n",
       "<polygon fill=\"none\" stroke=\"black\" points=\"2.5,-110.5 2.5,-146.5 246.5,-146.5 246.5,-110.5 2.5,-110.5\"/>\n",
       "<text text-anchor=\"middle\" x=\"19.5\" y=\"-124.8\" font-family=\"Times,serif\" font-size=\"14.00\">x1</text>\n",
       "<polyline fill=\"none\" stroke=\"black\" points=\"36.5,-110.5 36.5,-146.5 \"/>\n",
       "<text text-anchor=\"middle\" x=\"87.5\" y=\"-124.8\" font-family=\"Times,serif\" font-size=\"14.00\">data 2.0000</text>\n",
       "<polyline fill=\"none\" stroke=\"black\" points=\"138.5,-110.5 138.5,-146.5 \"/>\n",
       "<text text-anchor=\"middle\" x=\"192.5\" y=\"-124.8\" font-family=\"Times,serif\" font-size=\"14.00\">grad &#45;1.4990</text>\n",
       "</g>\n",
       "<!-- 140464624613072&#45;&gt;140464624686320* -->\n",
       "<g id=\"edge12\" class=\"edge\">\n",
       "<title>140464624613072&#45;&gt;140464624686320*</title>\n",
       "<path fill=\"none\" stroke=\"black\" d=\"M246.64,-128.5C256.7,-128.5 266.26,-128.5 274.79,-128.5\"/>\n",
       "<polygon fill=\"black\" stroke=\"black\" points=\"275,-132 285,-128.5 275,-125 275,-132\"/>\n",
       "</g>\n",
       "<!-- 140464624686320 -->\n",
       "<g id=\"node10\" class=\"node\">\n",
       "<title>140464624686320</title>\n",
       "<polygon fill=\"none\" stroke=\"black\" points=\"375,-110.5 375,-146.5 641,-146.5 641,-110.5 375,-110.5\"/>\n",
       "<text text-anchor=\"middle\" x=\"402.5\" y=\"-124.8\" font-family=\"Times,serif\" font-size=\"14.00\">x1w1</text>\n",
       "<polyline fill=\"none\" stroke=\"black\" points=\"430,-110.5 430,-146.5 \"/>\n",
       "<text text-anchor=\"middle\" x=\"483.5\" y=\"-124.8\" font-family=\"Times,serif\" font-size=\"14.00\">data &#45;6.0000</text>\n",
       "<polyline fill=\"none\" stroke=\"black\" points=\"537,-110.5 537,-146.5 \"/>\n",
       "<text text-anchor=\"middle\" x=\"589\" y=\"-124.8\" font-family=\"Times,serif\" font-size=\"14.00\">grad 0.4997</text>\n",
       "</g>\n",
       "<!-- 140464624686320&#45;&gt;140464624685600+ -->\n",
       "<g id=\"edge14\" class=\"edge\">\n",
       "<title>140464624686320&#45;&gt;140464624685600+</title>\n",
       "<path fill=\"none\" stroke=\"black\" d=\"M633.78,-110.49C645.77,-108.76 657.15,-107.12 667.08,-105.68\"/>\n",
       "<polygon fill=\"black\" stroke=\"black\" points=\"667.86,-109.11 677.25,-104.22 666.86,-102.18 667.86,-109.11\"/>\n",
       "</g>\n",
       "<!-- 140464624686320*&#45;&gt;140464624686320 -->\n",
       "<g id=\"edge4\" class=\"edge\">\n",
       "<title>140464624686320*&#45;&gt;140464624686320</title>\n",
       "<path fill=\"none\" stroke=\"black\" d=\"M339.16,-128.5C346.61,-128.5 355.28,-128.5 364.68,-128.5\"/>\n",
       "<polygon fill=\"black\" stroke=\"black\" points=\"364.73,-132 374.73,-128.5 364.73,-125 364.73,-132\"/>\n",
       "</g>\n",
       "<!-- 140464624686800 -->\n",
       "<g id=\"node12\" class=\"node\">\n",
       "<title>140464624686800</title>\n",
       "<polygon fill=\"none\" stroke=\"black\" points=\"803,-137.5 803,-173.5 1035,-173.5 1035,-137.5 803,-137.5\"/>\n",
       "<text text-anchor=\"middle\" x=\"816\" y=\"-151.8\" font-family=\"Times,serif\" font-size=\"14.00\">b</text>\n",
       "<polyline fill=\"none\" stroke=\"black\" points=\"829,-137.5 829,-173.5 \"/>\n",
       "<text text-anchor=\"middle\" x=\"880\" y=\"-151.8\" font-family=\"Times,serif\" font-size=\"14.00\">data 6.8818</text>\n",
       "<polyline fill=\"none\" stroke=\"black\" points=\"931,-137.5 931,-173.5 \"/>\n",
       "<text text-anchor=\"middle\" x=\"983\" y=\"-151.8\" font-family=\"Times,serif\" font-size=\"14.00\">grad 0.4997</text>\n",
       "</g>\n",
       "<!-- 140464624686800&#45;&gt;140464624686752+ -->\n",
       "<g id=\"edge6\" class=\"edge\">\n",
       "<title>140464624686800&#45;&gt;140464624686752+</title>\n",
       "<path fill=\"none\" stroke=\"black\" d=\"M1035.23,-140.35C1057.63,-137.41 1079.52,-134.53 1096.88,-132.25\"/>\n",
       "<polygon fill=\"black\" stroke=\"black\" points=\"1097.62,-135.68 1107.08,-130.91 1096.7,-128.74 1097.62,-135.68\"/>\n",
       "</g>\n",
       "<!-- 140464624687952 -->\n",
       "<g id=\"node13\" class=\"node\">\n",
       "<title>140464624687952</title>\n",
       "<polygon fill=\"none\" stroke=\"black\" points=\"2.5,-0.5 2.5,-36.5 246.5,-36.5 246.5,-0.5 2.5,-0.5\"/>\n",
       "<text text-anchor=\"middle\" x=\"21.5\" y=\"-14.8\" font-family=\"Times,serif\" font-size=\"14.00\">w2</text>\n",
       "<polyline fill=\"none\" stroke=\"black\" points=\"40.5,-0.5 40.5,-36.5 \"/>\n",
       "<text text-anchor=\"middle\" x=\"91.5\" y=\"-14.8\" font-family=\"Times,serif\" font-size=\"14.00\">data 1.0000</text>\n",
       "<polyline fill=\"none\" stroke=\"black\" points=\"142.5,-0.5 142.5,-36.5 \"/>\n",
       "<text text-anchor=\"middle\" x=\"194.5\" y=\"-14.8\" font-family=\"Times,serif\" font-size=\"14.00\">grad 0.0000</text>\n",
       "</g>\n",
       "<!-- 140464624687952&#45;&gt;140464624688096* -->\n",
       "<g id=\"edge8\" class=\"edge\">\n",
       "<title>140464624687952&#45;&gt;140464624688096*</title>\n",
       "<path fill=\"none\" stroke=\"black\" d=\"M214.42,-36.55C226.15,-39.54 237.93,-42.87 249,-46.5 259.46,-49.93 270.57,-54.47 280.46,-58.84\"/>\n",
       "<polygon fill=\"black\" stroke=\"black\" points=\"279.31,-62.17 289.87,-63.12 282.21,-55.79 279.31,-62.17\"/>\n",
       "</g>\n",
       "<!-- 140464624688096 -->\n",
       "<g id=\"node14\" class=\"node\">\n",
       "<title>140464624688096</title>\n",
       "<polygon fill=\"none\" stroke=\"black\" points=\"377.5,-55.5 377.5,-91.5 638.5,-91.5 638.5,-55.5 377.5,-55.5\"/>\n",
       "<text text-anchor=\"middle\" x=\"405\" y=\"-69.8\" font-family=\"Times,serif\" font-size=\"14.00\">x2w2</text>\n",
       "<polyline fill=\"none\" stroke=\"black\" points=\"432.5,-55.5 432.5,-91.5 \"/>\n",
       "<text text-anchor=\"middle\" x=\"483.5\" y=\"-69.8\" font-family=\"Times,serif\" font-size=\"14.00\">data 0.0000</text>\n",
       "<polyline fill=\"none\" stroke=\"black\" points=\"534.5,-55.5 534.5,-91.5 \"/>\n",
       "<text text-anchor=\"middle\" x=\"586.5\" y=\"-69.8\" font-family=\"Times,serif\" font-size=\"14.00\">grad 0.4997</text>\n",
       "</g>\n",
       "<!-- 140464624688096&#45;&gt;140464624685600+ -->\n",
       "<g id=\"edge13\" class=\"edge\">\n",
       "<title>140464624688096&#45;&gt;140464624685600+</title>\n",
       "<path fill=\"none\" stroke=\"black\" d=\"M638.4,-91.51C648.78,-92.95 658.6,-94.32 667.3,-95.53\"/>\n",
       "<polygon fill=\"black\" stroke=\"black\" points=\"666.94,-99.01 677.32,-96.93 667.9,-92.08 666.94,-99.01\"/>\n",
       "</g>\n",
       "<!-- 140464624688096*&#45;&gt;140464624688096 -->\n",
       "<g id=\"edge5\" class=\"edge\">\n",
       "<title>140464624688096*&#45;&gt;140464624688096</title>\n",
       "<path fill=\"none\" stroke=\"black\" d=\"M339.16,-73.5C347.24,-73.5 356.75,-73.5 367.07,-73.5\"/>\n",
       "<polygon fill=\"black\" stroke=\"black\" points=\"367.2,-77 377.2,-73.5 367.2,-70 367.2,-77\"/>\n",
       "</g>\n",
       "</g>\n",
       "</svg>\n"
      ],
      "text/plain": [
       "<graphviz.graphs.Digraph at 0x7fc0780bb4f0>"
      ]
     },
     "execution_count": 136,
     "metadata": {},
     "output_type": "execute_result"
    }
   ],
   "source": [
    "draw_dot(o)"
   ]
  },
  {
   "cell_type": "code",
   "execution_count": 127,
   "id": "87589bce",
   "metadata": {},
   "outputs": [],
   "source": [
    "o.grad = 1.0"
   ]
  },
  {
   "cell_type": "code",
   "execution_count": 128,
   "id": "d754184b",
   "metadata": {},
   "outputs": [],
   "source": [
    "# o = tanh(n)\n",
    "# do/dn = 1 - (tanh(n))**2\n",
    "n.grad = 1 - o.data**2"
   ]
  },
  {
   "cell_type": "code",
   "execution_count": 131,
   "id": "f9c937b3",
   "metadata": {},
   "outputs": [],
   "source": [
    "# do/db = (do/dn) * (dn/db)\n",
    "# since, dn/db = 1 , check for yourself\n",
    "# therefore do/db = do/dn\n",
    "# similarly, do/dx1w1x2w2 = do/dn\n",
    "b.grad = n.grad\n",
    "x1w1x2w2.grad = n.grad"
   ]
  },
  {
   "cell_type": "code",
   "execution_count": 133,
   "id": "9b09868d",
   "metadata": {},
   "outputs": [],
   "source": [
    "# do/dx1w1  =  (do/dx1w1x2w2)*(dx1w1x2w2/dx1w1)\n",
    "# and dx1w1x2w2/dx1w1 = 1\n",
    "# therefore do/dx1w1  =  (do/dx1w1x2w2)\n",
    "# similarly for do/dx2w2  =  (do/dx1w1x2w2)\n",
    "x1w1.grad  = x1w1x2w2.grad\n",
    "x2w2.grad  = x1w1x2w2.grad"
   ]
  },
  {
   "cell_type": "code",
   "execution_count": 135,
   "id": "b7f3e1e1",
   "metadata": {},
   "outputs": [],
   "source": [
    "# do/dw1 = (do/dx1w1) * (dx1w1/ dw1)\n",
    "# since, dx1w1/dw1 = x1\n",
    "# do/dw1 = (do/dx1w1) * x1\n",
    "# similarly:\n",
    "# do/dx1 = (do/dx1w1) * w1\n",
    "# do/dw2 = (do/dx2w2) * x2\n",
    "# do/dx2 = (do/dx2w2) * w2\n",
    "\n",
    "w1.grad = x1w1.grad * x1.data\n",
    "x1.grad = x1w1.grad * w1.data\n",
    "w2.grad = x2w2.grad * x2.data\n",
    "x2.grad = x2w2.grad * w2.data"
   ]
  },
  {
   "cell_type": "code",
   "execution_count": null,
   "id": "68109ee3",
   "metadata": {},
   "outputs": [],
   "source": []
  }
 ],
 "metadata": {
  "kernelspec": {
   "display_name": "Python 3",
   "language": "python",
   "name": "python3"
  },
  "language_info": {
   "codemirror_mode": {
    "name": "ipython",
    "version": 3
   },
   "file_extension": ".py",
   "mimetype": "text/x-python",
   "name": "python",
   "nbconvert_exporter": "python",
   "pygments_lexer": "ipython3",
   "version": "3.8.8"
  }
 },
 "nbformat": 4,
 "nbformat_minor": 5
}
