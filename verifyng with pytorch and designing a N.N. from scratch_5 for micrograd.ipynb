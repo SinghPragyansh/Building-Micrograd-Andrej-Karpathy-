{
 "cells": [
  {
   "cell_type": "code",
   "execution_count": 1,
   "id": "964a1887",
   "metadata": {},
   "outputs": [],
   "source": [
    "# Doing the same things in pytorch"
   ]
  },
  {
   "cell_type": "code",
   "execution_count": 2,
   "id": "d1a19f3a",
   "metadata": {},
   "outputs": [],
   "source": [
    "import torch\n",
    "import random\n",
    "import math\n",
    "import numpy as np\n",
    "import matplotlib.pyplot as plt"
   ]
  },
  {
   "cell_type": "code",
   "execution_count": 3,
   "id": "6f442da1",
   "metadata": {},
   "outputs": [],
   "source": [
    "from graphviz import Digraph\n",
    "\n",
    "def trace(root):\n",
    "    # builds a set of all nodes and edges in a graph\n",
    "    nodes, edges = set(), set()\n",
    "    def build(v):\n",
    "        if v not in nodes:\n",
    "            nodes.add(v)\n",
    "            for child in v._prev:\n",
    "                edges.add((child, v))\n",
    "                build(child)\n",
    "    build(root)\n",
    "    return nodes, edges\n",
    "\n",
    "def draw_dot(root):\n",
    "    dot = Digraph(format = 'svg', graph_attr = {'rankdir': 'LR'})   # LR = Left to right\n",
    "    \n",
    "    nodes, edges = trace(root)\n",
    "    for n in nodes:\n",
    "        uid = str(id(n))\n",
    "        # for any value in the graph, create a rectangular ('record') node for it\n",
    "        dot.node(name = uid, label = \"{%s | data %.4f | grad %.4f}\" %(n.label ,n.data, n.grad ), shape = 'record')\n",
    "        if n._op:\n",
    "            # if this value is a result of some operation, create an op node for it\n",
    "            dot.node(name = uid + n._op, label = n._op)\n",
    "            # and connect this node to it\n",
    "            dot.edge(uid + n._op, uid)\n",
    "            \n",
    "    for n1, n2 in edges:   \n",
    "        # connect n1 to the op node of n2\n",
    "        dot.edge(str(id(n1)), str(id(n2)) + n2._op)\n",
    "        \n",
    "    return dot"
   ]
  },
  {
   "cell_type": "code",
   "execution_count": 28,
   "id": "f2499f9d",
   "metadata": {},
   "outputs": [],
   "source": [
    "class Value:\n",
    "    \n",
    "    def __init__(self, data, _children=(), _op = '', label = ''):\n",
    "        self.data = data\n",
    "        self._prev = set(_children)\n",
    "        self._op = _op\n",
    "        self.label = label\n",
    "        self.grad = 0.0         # initial value\n",
    "        self._backward = lambda : None\n",
    "    def __repr__(self):\n",
    "        return f\"Value(data = {self.data})\"\n",
    "    \n",
    "    # Note:\n",
    "    #out = Class(argument, (who are childrem node, again children node), 'name of operation')\n",
    "    \n",
    "    def __add__(self, other):\n",
    "        other = other if isinstance(other, Value) else Value(other)\n",
    "        out = Value(self.data + other.data, (self,other), '+')\n",
    "\n",
    "        def _backward():\n",
    "            self.grad += 1.0 * out.grad\n",
    "            other.grad += 1.0 * out.grad\n",
    "        out._backward = _backward\n",
    "        return out\n",
    "    \n",
    "    def __radd__(self, other):   # (other * self) ; reverse multi to consider \"2*a.data\" as well \n",
    "        return self+other\n",
    "    \n",
    "    #def __neg__(self):\n",
    "     #   return self * -1\n",
    "    \n",
    "    def __sub__(self, other):\n",
    "        other = other if isinstance(other, Value) else Value(other)\n",
    "        out = Value(self.data - other.data, (self, other), '-')\n",
    "        \n",
    "        def _backward():\n",
    "            self.grad += 1.0 * out.grad\n",
    "            other.grad += -1.0 * out.grad\n",
    "        out._backward = _backward\n",
    "        return out #self + (-other)\n",
    "    \n",
    "    #def __rsub__(self, other):\n",
    "     #   return self - other\n",
    "    \n",
    "    def __mul__(self, other):\n",
    "        other = other if isinstance(other, Value) else Value(other)\n",
    "        out = Value(self.data * other.data, (self, other), '*')\n",
    "        \n",
    "        def _backward():\n",
    "            self.grad += other.data * out.grad\n",
    "            other.grad += self.data * out.grad\n",
    "        out._backward = _backward\n",
    "        return out\n",
    "    def __rmul__(self, other):   # (other + self) ; reverse multi to consider \"2+a.data\" as well \n",
    "        return self*other\n",
    "    \n",
    "    def __pow__(self, other):\n",
    "        assert isinstance(other, (int, float)),   \"asserting only int/float powers for now\"\n",
    "        out = Value(self.data**other,(self,), f'**{other}')\n",
    "        \n",
    "        def _backward():\n",
    "            self.grad += (other)*(self.data**((other - 1.0)))*out.grad\n",
    "        out._backward = _backward\n",
    "        return out\n",
    "        \n",
    "    def __truediv__(self, other):\n",
    "        out = Value(self.data * other.data**-1,  (self, other), '/')\n",
    "        out = Value(self.data / other.data,  (self, other), '/')\n",
    "        def _backward():\n",
    "            self.grad += (1.0/other.data)*out.grad\n",
    "            other.grad += (-1.0*self.data/(other.data**2))*out.grad\n",
    "        out._backward = _backward\n",
    "        return out #self * other**-1\n",
    "    \n",
    "    def __rtruediv__(self, other):\n",
    "        return self/other\n",
    "    \n",
    "    def tanh(self):\n",
    "        x = self.data\n",
    "        t = (np.exp(x) - np.exp(-x))/ (np.exp(x) + np.exp(-x))\n",
    "        out = Value(t, (self, ), 'tanh')\n",
    "        \n",
    "        def _backward():\n",
    "            self.grad += (1 - t**2) * out.grad\n",
    "        out._backward = _backward    \n",
    "        return out\n",
    "    \n",
    "    def relu(self):\n",
    "        out = Value(0 if self.data <0 else self.data, (self,), 'ReLU')\n",
    "        \n",
    "        def _backward():\n",
    "            self.grad += (out.grad > 0) * out.grad\n",
    "        out._backward= _backward\n",
    "        return out\n",
    "    \n",
    "    def exp(self):\n",
    "        x = self.data\n",
    "        out = Value(math.exp(x), (self,), 'exp')\n",
    "        \n",
    "        def _backward():\n",
    "            self.grad = out.data * out.grad\n",
    "        out._backward = _backward\n",
    "        return out\n",
    "    \n",
    "    def backward(self):\n",
    "        \n",
    "        topo = []     # empty list to be appended with the children nodes\n",
    "        visited = set()\n",
    "        def build_topo(v):\n",
    "            if v not in visited:\n",
    "                visited.add(v)\n",
    "                for child in v._prev:\n",
    "                    build_topo(child)\n",
    "                topo.append(v)       \n",
    "        build_topo(self)\n",
    "        \n",
    "        self.grad = 1.0\n",
    "        for node in reversed(topo):\n",
    "            node._backward()"
   ]
  },
  {
   "cell_type": "code",
   "execution_count": 5,
   "id": "498929b1",
   "metadata": {},
   "outputs": [],
   "source": [
    "# .Double() is for double precision of float numbers, i.e. float64 \n",
    "x1 = torch.Tensor([2.0]).double()      ;   x1.requires_grad = True\n",
    "x2 = torch.Tensor([0.0]).double()      ;   x2.requires_grad = True\n",
    "w1 = torch.Tensor([-3.0]).double()     ;   w1.requires_grad = True\n",
    "w2 = torch.Tensor([1.0]).double()      ;   w2.requires_grad = True\n",
    "b = torch.Tensor([6.88137358701954]).double()  ;   b.requires_grad = True\n",
    "n = x1*w1 + x2*w2 + b\n",
    "o = torch.tanh(n)"
   ]
  },
  {
   "cell_type": "code",
   "execution_count": 6,
   "id": "174a0a82",
   "metadata": {},
   "outputs": [
    {
     "name": "stdout",
     "output_type": "stream",
     "text": [
      "0.7071066904050358\n",
      "--\n",
      "x2 0.5000001283844369\n",
      "w2 0.0\n",
      "x1 -1.5000003851533106\n",
      "w1 1.0000002567688737\n"
     ]
    }
   ],
   "source": [
    "print(o.data.item())     # .item(), is used for extracting the scaler from the tensor\n",
    "o.backward()             # o is a tensor object\n",
    "\n",
    "print('--')\n",
    "print('x2', x2.grad.item())\n",
    "print('w2', w2.grad.item())\n",
    "print('x1', x1.grad.item())\n",
    "print('w1', w1.grad.item())"
   ]
  },
  {
   "cell_type": "markdown",
   "id": "eb1109ca",
   "metadata": {},
   "source": [
    "### Micrograd is scaler value engine, in pytorch, the input is based on tensors data"
   ]
  },
  {
   "cell_type": "markdown",
   "id": "e08ee653",
   "metadata": {},
   "source": [
    "## Lets build the micrograd neural network"
   ]
  },
  {
   "cell_type": "code",
   "execution_count": 7,
   "id": "3aa3d9e5",
   "metadata": {},
   "outputs": [],
   "source": [
    "class Neuron:\n",
    "    \n",
    "    def __init__(self, nin):    # nin = size of vector of one neuron\n",
    "        self.w = [Value(random.uniform(-1,1)) for _ in range(nin)]\n",
    "        self.b = Value(random.uniform(-1,1))\n",
    "        \n",
    "    def __call__(self, x):\n",
    "        # w*x +b\n",
    "        act = sum(wi*xi for wi, xi in zip(self.w, x)) + self.b\n",
    "        out = act.tanh()\n",
    "        return out\n",
    "    # how does __call__() works? \n",
    "    # x = [2.0, 3.0]\n",
    "    # n = Neuron(2)\n",
    "    # n(x)\n",
    "    \n",
    "    def parameter(self):\n",
    "        return self.w + [self.b]      # returning the list parameters of single neuron\n",
    "    "
   ]
  },
  {
   "cell_type": "code",
   "execution_count": 8,
   "id": "d06f6b98",
   "metadata": {},
   "outputs": [
    {
     "data": {
      "text/plain": [
       "Value(data = 0.982765194481908)"
      ]
     },
     "execution_count": 8,
     "metadata": {},
     "output_type": "execute_result"
    }
   ],
   "source": [
    "x = [2.0, 3.0]\n",
    "n = Neuron(2)\n",
    "n(x)"
   ]
  },
  {
   "cell_type": "code",
   "execution_count": 9,
   "id": "3c31a037",
   "metadata": {},
   "outputs": [],
   "source": [
    "class Layer:\n",
    "    \n",
    "    def __init__(self,nin, nout):     \n",
    "        # nout is the number of neurons in present layer,and each of the neurons are defined  \n",
    "        # as vector, hence, nin as the argument defines the dimension of every neuron.\n",
    "        \n",
    "        self.neurons = [Neuron(nin) for _ in range(nout)]\n",
    "        \n",
    "    def __call__(self,x):\n",
    "        outs = [n(x) for n in self.neurons]\n",
    "        return outs[0] if len(outs) == 1 else outs\n",
    "    \n",
    "    def parameters(self):\n",
    "        params = []\n",
    "        for neuron in self.neurons:\n",
    "            ps = neuron.parameter()\n",
    "            params.extend(ps)\n",
    "        return params"
   ]
  },
  {
   "cell_type": "code",
   "execution_count": 10,
   "id": "ca715aab",
   "metadata": {},
   "outputs": [
    {
     "data": {
      "text/plain": [
       "[Value(data = -0.6841174159074246),\n",
       " Value(data = 0.7007011892762086),\n",
       " Value(data = 0.5162170273771025)]"
      ]
     },
     "execution_count": 10,
     "metadata": {},
     "output_type": "execute_result"
    }
   ],
   "source": [
    "x = [2.0, 3.0]\n",
    "n = Layer(2,3)   \n",
    "# nin = 2, is for the vector dimensionality of every neuron\n",
    "# nout = 3, is for the number of neurons in every layer\n",
    "n(x)"
   ]
  },
  {
   "cell_type": "markdown",
   "id": "5a34c988",
   "metadata": {},
   "source": [
    "#### Lets design a MLP (multi layer perceptron)"
   ]
  },
  {
   "cell_type": "code",
   "execution_count": 11,
   "id": "0c0fce06",
   "metadata": {},
   "outputs": [],
   "source": [
    "class MLP:\n",
    "    def __init__(self, nin, nouts): \n",
    "        #nouts:is defined with the list; dimension of list would give the idea of number of layer\n",
    "        # and the magnitude of every element gives the idea of number of neurons in every layer\n",
    "        sz = [nin] + nouts\n",
    "        self.layers = [Layer(sz[i], sz[i+1]) for i in range(len(nouts))]\n",
    "        \n",
    "    def __call__(self, x):   # calling the layers sequentially\n",
    "        for layer in self.layers:\n",
    "            x = layer(x)\n",
    "        return x\n",
    "    \n",
    "    def parameters(self):\n",
    "        return [p for layer in self.layers for p in layer.parameters()]"
   ]
  },
  {
   "cell_type": "code",
   "execution_count": 12,
   "id": "3306660b",
   "metadata": {},
   "outputs": [
    {
     "data": {
      "text/plain": [
       "Value(data = -0.5790961842169915)"
      ]
     },
     "execution_count": 12,
     "metadata": {},
     "output_type": "execute_result"
    }
   ],
   "source": [
    "x = [2.0, 3.0, -1.0]\n",
    "n = MLP(3, [4,4,1])      \n",
    "# this defines a neural network of 4 layers,\n",
    "# input layer with 3 neurons\n",
    "# 2 hidden layers with 4 neurons each\n",
    "# output layer with 1 neuron\n",
    "n(x)"
   ]
  },
  {
   "cell_type": "code",
   "execution_count": 13,
   "id": "df4a6f59",
   "metadata": {},
   "outputs": [
    {
     "data": {
      "text/plain": [
       "41"
      ]
     },
     "execution_count": 13,
     "metadata": {},
     "output_type": "execute_result"
    }
   ],
   "source": [
    "# all the paramters weights and biases inside the N.N.\n",
    "# n.parameters()\n",
    "len(n.parameters())"
   ]
  },
  {
   "cell_type": "code",
   "execution_count": 14,
   "id": "ce4b84aa",
   "metadata": {},
   "outputs": [],
   "source": [
    "# creating data-set\n",
    "xs = [\n",
    "    [2.0, 3.0, -1.0],\n",
    "    [3.0, -1.0, 0.5],\n",
    "    [0.5, 1.0, 1.0],\n",
    "    [1.0, 1.0, -1.0]\n",
    "]\n",
    "ys = [1.0, -1.0,-1.0, 1.0]   # desired targets"
   ]
  },
  {
   "cell_type": "code",
   "execution_count": 15,
   "id": "ea1bd624",
   "metadata": {},
   "outputs": [
    {
     "data": {
      "text/plain": [
       "[Value(data = -0.5790961842169915),\n",
       " Value(data = -0.17801144150641232),\n",
       " Value(data = -0.33318790274278137),\n",
       " Value(data = -0.6263184057002686)]"
      ]
     },
     "execution_count": 15,
     "metadata": {},
     "output_type": "execute_result"
    }
   ],
   "source": [
    "y_pred = [n(x) for x in xs]\n",
    "y_pred"
   ]
  },
  {
   "cell_type": "code",
   "execution_count": 16,
   "id": "4a9d0355",
   "metadata": {},
   "outputs": [
    {
     "data": {
      "text/plain": [
       "'# implementing the mean squred loss\\nloss = [(yout - ygt)**2 for ygt, yout in zip(ys, y_pred)]   # ygt : y ground truth\\nloss'"
      ]
     },
     "execution_count": 16,
     "metadata": {},
     "output_type": "execute_result"
    }
   ],
   "source": [
    "'''# implementing the mean squred loss\n",
    "loss = [(yout - ygt)**2 for ygt, yout in zip(ys, y_pred)]   # ygt : y ground truth\n",
    "loss'''"
   ]
  },
  {
   "cell_type": "code",
   "execution_count": 17,
   "id": "ded6b06c",
   "metadata": {},
   "outputs": [
    {
     "data": {
      "text/plain": [
       "'# now cost from the given losses would be:\\ncost = sum(loss)\\ncost'"
      ]
     },
     "execution_count": 17,
     "metadata": {},
     "output_type": "execute_result"
    }
   ],
   "source": [
    "'''# now cost from the given losses would be:\n",
    "cost = sum(loss)\n",
    "cost'''"
   ]
  },
  {
   "cell_type": "code",
   "execution_count": 18,
   "id": "8d1774af",
   "metadata": {},
   "outputs": [
    {
     "data": {
      "text/plain": [
       "'# calculating the cost function gradient\\ncost.backward()'"
      ]
     },
     "execution_count": 18,
     "metadata": {},
     "output_type": "execute_result"
    }
   ],
   "source": [
    "'''# calculating the cost function gradient\n",
    "cost.backward()'''"
   ]
  },
  {
   "cell_type": "code",
   "execution_count": 19,
   "id": "c0a2bd98",
   "metadata": {},
   "outputs": [
    {
     "data": {
      "text/plain": [
       "'# applying the backpropogation helps us in finding the gradient of every parameter,\\n# weight and bias both. These are helping us in defining the nature of neuron needed for our ygt\\n# lets look at the gradient of, first element of first neuron of first layer\\nn.layers[0].neurons[0].w[0].grad'"
      ]
     },
     "execution_count": 19,
     "metadata": {},
     "output_type": "execute_result"
    }
   ],
   "source": [
    "'''# applying the backpropogation helps us in finding the gradient of every parameter,\n",
    "# weight and bias both. These are helping us in defining the nature of neuron needed for our ygt\n",
    "# lets look at the gradient of, first element of first neuron of first layer\n",
    "n.layers[0].neurons[0].w[0].grad'''"
   ]
  },
  {
   "cell_type": "code",
   "execution_count": 20,
   "id": "8bb6395e",
   "metadata": {},
   "outputs": [
    {
     "data": {
      "text/plain": [
       "'n.layers[0].neurons[0].w[0].data'"
      ]
     },
     "execution_count": 20,
     "metadata": {},
     "output_type": "execute_result"
    }
   ],
   "source": [
    "'''n.layers[0].neurons[0].w[0].data'''"
   ]
  },
  {
   "cell_type": "markdown",
   "id": "e68114a0",
   "metadata": {},
   "source": [
    "### Applying the gradient descent to update the parameters according to the grad."
   ]
  },
  {
   "cell_type": "code",
   "execution_count": 21,
   "id": "3b6608f2",
   "metadata": {},
   "outputs": [
    {
     "data": {
      "text/plain": [
       "'for p in n.parameters():\\n    p.data = p.data - 0.01 * p.grad'"
      ]
     },
     "execution_count": 21,
     "metadata": {},
     "output_type": "execute_result"
    }
   ],
   "source": [
    "'''for p in n.parameters():\n",
    "    p.data = p.data - 0.01 * p.grad'''"
   ]
  },
  {
   "cell_type": "code",
   "execution_count": 22,
   "id": "312e3e04",
   "metadata": {},
   "outputs": [
    {
     "data": {
      "text/plain": [
       "'n.layers[0].neurons[0].w[0].data'"
      ]
     },
     "execution_count": 22,
     "metadata": {},
     "output_type": "execute_result"
    }
   ],
   "source": [
    "'''n.layers[0].neurons[0].w[0].data'''"
   ]
  },
  {
   "cell_type": "code",
   "execution_count": 23,
   "id": "3ca3ed7e",
   "metadata": {},
   "outputs": [
    {
     "data": {
      "text/plain": [
       "'# with one step of gradient descent, we are the cost to have goen down\\ny_pred = [n(x) for x in xs]\\nloss = [(yout - ygt)**2 for ygt, yout in zip(ys, y_pred)]   # ygt : y ground truth\\ncost = sum(loss)\\ncost\\n# It has gone down'"
      ]
     },
     "execution_count": 23,
     "metadata": {},
     "output_type": "execute_result"
    }
   ],
   "source": [
    "'''# with one step of gradient descent, we are the cost to have goen down\n",
    "y_pred = [n(x) for x in xs]\n",
    "loss = [(yout - ygt)**2 for ygt, yout in zip(ys, y_pred)]   # ygt : y ground truth\n",
    "cost = sum(loss)\n",
    "cost\n",
    "# It has gone down'''"
   ]
  },
  {
   "cell_type": "code",
   "execution_count": 26,
   "id": "5c6c4f9a",
   "metadata": {},
   "outputs": [
    {
     "name": "stdout",
     "output_type": "stream",
     "text": [
      "cost in 0 step is:0.14930305346013895\n",
      "cost in 1 step is:0.13440779504464312\n",
      "cost in 2 step is:0.12210267089310445\n",
      "cost in 3 step is:0.11177556720409056\n",
      "cost in 4 step is:0.10299138931103177\n",
      "cost in 5 step is:0.09543286308246363\n",
      "cost in 6 step is:0.08886344579952246\n",
      "cost in 7 step is:0.08310333667821374\n",
      "cost in 8 step is:0.07801351802459323\n",
      "cost in 9 step is:0.07348487102631472\n",
      "cost in 10 step is:0.06943058612441518\n",
      "cost in 11 step is:0.0657807646994373\n",
      "cost in 12 step is:0.06247851030960562\n",
      "cost in 13 step is:0.059477052530593946\n",
      "cost in 14 step is:0.05673759947483965\n"
     ]
    }
   ],
   "source": [
    "# we can simply with the gradient and gradient descent function to minimize the cost\n",
    "for k in range(15):\n",
    "    \n",
    "    # forward pass\n",
    "    y_pred = [n(x) for x in xs]\n",
    "    \n",
    "    # calculate the cost \n",
    "    loss = [(yout - ygt)**2 for ygt, yout in zip(ys, y_pred)]\n",
    "    cost = sum(loss)\n",
    "    print(f\"cost in {k} step is:{cost.data}\")\n",
    "    \n",
    "    # set old gradient = 0.0 for the new iteration, otherwise grad will keep adding up\n",
    "    for p in n.parameters():\n",
    "        p.grad = 0.0\n",
    "        \n",
    "    # backward pass or backpropogation\n",
    "    cost.backward()\n",
    "    \n",
    "    # update the parameters\n",
    "    for p in n.parameters():\n",
    "        p.data = p.data - 0.05 * p.grad"
   ]
  },
  {
   "cell_type": "code",
   "execution_count": 27,
   "id": "aadf3774",
   "metadata": {},
   "outputs": [
    {
     "data": {
      "text/plain": [
       "[Value(data = 0.9252619093531166),\n",
       " Value(data = -0.9218283661494826),\n",
       " Value(data = -0.8553330834711083),\n",
       " Value(data = 0.8447180106887434)]"
      ]
     },
     "execution_count": 27,
     "metadata": {},
     "output_type": "execute_result"
    }
   ],
   "source": [
    "y_pred"
   ]
  },
  {
   "cell_type": "code",
   "execution_count": null,
   "id": "b7dee1b8",
   "metadata": {},
   "outputs": [],
   "source": []
  }
 ],
 "metadata": {
  "kernelspec": {
   "display_name": "Python 3",
   "language": "python",
   "name": "python3"
  },
  "language_info": {
   "codemirror_mode": {
    "name": "ipython",
    "version": 3
   },
   "file_extension": ".py",
   "mimetype": "text/x-python",
   "name": "python",
   "nbconvert_exporter": "python",
   "pygments_lexer": "ipython3",
   "version": "3.8.8"
  }
 },
 "nbformat": 4,
 "nbformat_minor": 5
}
