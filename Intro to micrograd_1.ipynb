{
 "cells": [
  {
   "cell_type": "markdown",
   "id": "22e4eafc",
   "metadata": {},
   "source": [
    "## Micrograd"
   ]
  },
  {
   "cell_type": "code",
   "execution_count": 3,
   "id": "f6efb056",
   "metadata": {},
   "outputs": [],
   "source": [
    "# Micrograd is library\n",
    "# https://github.com/karpathy/micrograd"
   ]
  },
  {
   "cell_type": "markdown",
   "id": "de861c1a",
   "metadata": {},
   "source": [
    "A tiny Autograd (automatic gradient) engine (with a bite! :)). Implements backpropagation (reverse-mode autodiff) over a dynamically built DAG and a small neural networks library on top of it with a PyTorch-like API. Both are tiny, with about 100 and 50 lines of code respectively. The DAG only operates over scalar values, so e.g. we chop up each neuron into all of its individual tiny adds and multiplies. However, this is enough to build up entire deep neural nets doing binary classification, as the demo notebook shows. Potentially useful for educational purposes.\n"
   ]
  },
  {
   "cell_type": "code",
   "execution_count": 4,
   "id": "0c726649",
   "metadata": {},
   "outputs": [
    {
     "name": "stdout",
     "output_type": "stream",
     "text": [
      "24.7041\n",
      "138.8338\n",
      "645.5773\n"
     ]
    }
   ],
   "source": [
    "# examples\n",
    "from micrograd.engine import Value\n",
    "\n",
    "# input nodes \n",
    "a = Value(-4.0)\n",
    "b = Value(2.0)\n",
    "\n",
    "# diffen layer nodes\n",
    "c = a + b\n",
    "d = a * b + b**3\n",
    "c += c + 1\n",
    "c += 1 + c + (-a)\n",
    "d += d * 2 + (b + a).relu()\n",
    "d += 3 * d + (b - a).relu()\n",
    "e = c - d\n",
    "f = e**2\n",
    "g = f / 2.0\n",
    "g += 10.0 / f\n",
    "print(f'{g.data:.4f}') # prints 24.7041, the outcome of this forward pass\n",
    "\n",
    "# backword, goes back to calculate the derivative of every node with chain rule \n",
    "g.backward()         \n",
    "\n",
    "# \"(input node).grad\" will give the rate of change of output value \"g\" wrt \"input node\".\n",
    "\n",
    "print(f'{a.grad:.4f}') # prints 138.8338, i.e. the numerical value of dg/da \n",
    "print(f'{b.grad:.4f}') # prints 645.5773, i.e. the numerical value of dg/db"
   ]
  }
 ],
 "metadata": {
  "kernelspec": {
   "display_name": "Python 3",
   "language": "python",
   "name": "python3"
  },
  "language_info": {
   "codemirror_mode": {
    "name": "ipython",
    "version": 3
   },
   "file_extension": ".py",
   "mimetype": "text/x-python",
   "name": "python",
   "nbconvert_exporter": "python",
   "pygments_lexer": "ipython3",
   "version": "3.8.8"
  }
 },
 "nbformat": 4,
 "nbformat_minor": 5
}
